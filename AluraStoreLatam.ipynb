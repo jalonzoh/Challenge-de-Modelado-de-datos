{
  "nbformat": 4,
  "nbformat_minor": 0,
  "metadata": {
    "colab": {
      "provenance": [],
      "include_colab_link": true
    },
    "kernelspec": {
      "name": "python3",
      "display_name": "Python 3"
    },
    "language_info": {
      "name": "python"
    }
  },
  "cells": [
    {
      "cell_type": "markdown",
      "metadata": {
        "id": "view-in-github",
        "colab_type": "text"
      },
      "source": [
        "<a href=\"https://colab.research.google.com/github/jalonzoh/Challenge-de-Modelado-de-datos/blob/main/AluraStoreLatam.ipynb\" target=\"_parent\"><img src=\"https://colab.research.google.com/assets/colab-badge.svg\" alt=\"Open In Colab\"/></a>"
      ]
    },
    {
      "cell_type": "markdown",
      "source": [
        "### Importación de datos\n",
        "\n"
      ],
      "metadata": {
        "id": "RhEdWd9YUR6H"
      }
    },
    {
      "cell_type": "code",
      "execution_count": 1,
      "metadata": {
        "colab": {
          "base_uri": "https://localhost:8080/",
          "height": 310
        },
        "id": "T3EvaeQ_INIL",
        "outputId": "8dad1f49-eaaf-4120-f7ca-96f1a1f285cd"
      },
      "outputs": [
        {
          "output_type": "execute_result",
          "data": {
            "text/plain": [
              "           Producto  Categoría del Producto    Precio  Costo de envío  \\\n",
              "0  Silla de oficina                 Muebles  283600.0         15300.0   \n",
              "1         Pandereta  Instrumentos musicales   76800.0          2300.0   \n",
              "2         Cama king                 Muebles  443300.0         23800.0   \n",
              "3         Cama king                 Muebles  906200.0         46400.0   \n",
              "4  Silla de oficina                 Muebles  397800.0         19400.0   \n",
              "\n",
              "  Fecha de Compra         Vendedor Lugar de Compra  Calificación  \\\n",
              "0      04/08/2021  Izabela de León        Medellín             1   \n",
              "1      26/11/2020   Blanca Ramirez        Medellín             3   \n",
              "2      22/10/2021  Izabela de León         Pereira             5   \n",
              "3      04/05/2022    Maria Alfonso            Cali             5   \n",
              "4      26/02/2022    Lucas Olivera          Bogotá             4   \n",
              "\n",
              "       Método de pago  Cantidad de cuotas      lat       lon  \n",
              "0               Nequi                   1  6.25184 -75.56359  \n",
              "1  Tarjeta de crédito                   4  6.25184 -75.56359  \n",
              "2  Tarjeta de crédito                  10  4.81333 -75.69611  \n",
              "3  Tarjeta de crédito                  10  3.43722 -76.52250  \n",
              "4  Tarjeta de crédito                   3  4.60971 -74.08175  "
            ],
            "text/html": [
              "\n",
              "  <div id=\"df-0701c9a1-4f31-47d9-812f-ec55c54d9c10\" class=\"colab-df-container\">\n",
              "    <div>\n",
              "<style scoped>\n",
              "    .dataframe tbody tr th:only-of-type {\n",
              "        vertical-align: middle;\n",
              "    }\n",
              "\n",
              "    .dataframe tbody tr th {\n",
              "        vertical-align: top;\n",
              "    }\n",
              "\n",
              "    .dataframe thead th {\n",
              "        text-align: right;\n",
              "    }\n",
              "</style>\n",
              "<table border=\"1\" class=\"dataframe\">\n",
              "  <thead>\n",
              "    <tr style=\"text-align: right;\">\n",
              "      <th></th>\n",
              "      <th>Producto</th>\n",
              "      <th>Categoría del Producto</th>\n",
              "      <th>Precio</th>\n",
              "      <th>Costo de envío</th>\n",
              "      <th>Fecha de Compra</th>\n",
              "      <th>Vendedor</th>\n",
              "      <th>Lugar de Compra</th>\n",
              "      <th>Calificación</th>\n",
              "      <th>Método de pago</th>\n",
              "      <th>Cantidad de cuotas</th>\n",
              "      <th>lat</th>\n",
              "      <th>lon</th>\n",
              "    </tr>\n",
              "  </thead>\n",
              "  <tbody>\n",
              "    <tr>\n",
              "      <th>0</th>\n",
              "      <td>Silla de oficina</td>\n",
              "      <td>Muebles</td>\n",
              "      <td>283600.0</td>\n",
              "      <td>15300.0</td>\n",
              "      <td>04/08/2021</td>\n",
              "      <td>Izabela de León</td>\n",
              "      <td>Medellín</td>\n",
              "      <td>1</td>\n",
              "      <td>Nequi</td>\n",
              "      <td>1</td>\n",
              "      <td>6.25184</td>\n",
              "      <td>-75.56359</td>\n",
              "    </tr>\n",
              "    <tr>\n",
              "      <th>1</th>\n",
              "      <td>Pandereta</td>\n",
              "      <td>Instrumentos musicales</td>\n",
              "      <td>76800.0</td>\n",
              "      <td>2300.0</td>\n",
              "      <td>26/11/2020</td>\n",
              "      <td>Blanca Ramirez</td>\n",
              "      <td>Medellín</td>\n",
              "      <td>3</td>\n",
              "      <td>Tarjeta de crédito</td>\n",
              "      <td>4</td>\n",
              "      <td>6.25184</td>\n",
              "      <td>-75.56359</td>\n",
              "    </tr>\n",
              "    <tr>\n",
              "      <th>2</th>\n",
              "      <td>Cama king</td>\n",
              "      <td>Muebles</td>\n",
              "      <td>443300.0</td>\n",
              "      <td>23800.0</td>\n",
              "      <td>22/10/2021</td>\n",
              "      <td>Izabela de León</td>\n",
              "      <td>Pereira</td>\n",
              "      <td>5</td>\n",
              "      <td>Tarjeta de crédito</td>\n",
              "      <td>10</td>\n",
              "      <td>4.81333</td>\n",
              "      <td>-75.69611</td>\n",
              "    </tr>\n",
              "    <tr>\n",
              "      <th>3</th>\n",
              "      <td>Cama king</td>\n",
              "      <td>Muebles</td>\n",
              "      <td>906200.0</td>\n",
              "      <td>46400.0</td>\n",
              "      <td>04/05/2022</td>\n",
              "      <td>Maria Alfonso</td>\n",
              "      <td>Cali</td>\n",
              "      <td>5</td>\n",
              "      <td>Tarjeta de crédito</td>\n",
              "      <td>10</td>\n",
              "      <td>3.43722</td>\n",
              "      <td>-76.52250</td>\n",
              "    </tr>\n",
              "    <tr>\n",
              "      <th>4</th>\n",
              "      <td>Silla de oficina</td>\n",
              "      <td>Muebles</td>\n",
              "      <td>397800.0</td>\n",
              "      <td>19400.0</td>\n",
              "      <td>26/02/2022</td>\n",
              "      <td>Lucas Olivera</td>\n",
              "      <td>Bogotá</td>\n",
              "      <td>4</td>\n",
              "      <td>Tarjeta de crédito</td>\n",
              "      <td>3</td>\n",
              "      <td>4.60971</td>\n",
              "      <td>-74.08175</td>\n",
              "    </tr>\n",
              "  </tbody>\n",
              "</table>\n",
              "</div>\n",
              "    <div class=\"colab-df-buttons\">\n",
              "\n",
              "  <div class=\"colab-df-container\">\n",
              "    <button class=\"colab-df-convert\" onclick=\"convertToInteractive('df-0701c9a1-4f31-47d9-812f-ec55c54d9c10')\"\n",
              "            title=\"Convert this dataframe to an interactive table.\"\n",
              "            style=\"display:none;\">\n",
              "\n",
              "  <svg xmlns=\"http://www.w3.org/2000/svg\" height=\"24px\" viewBox=\"0 -960 960 960\">\n",
              "    <path d=\"M120-120v-720h720v720H120Zm60-500h600v-160H180v160Zm220 220h160v-160H400v160Zm0 220h160v-160H400v160ZM180-400h160v-160H180v160Zm440 0h160v-160H620v160ZM180-180h160v-160H180v160Zm440 0h160v-160H620v160Z\"/>\n",
              "  </svg>\n",
              "    </button>\n",
              "\n",
              "  <style>\n",
              "    .colab-df-container {\n",
              "      display:flex;\n",
              "      gap: 12px;\n",
              "    }\n",
              "\n",
              "    .colab-df-convert {\n",
              "      background-color: #E8F0FE;\n",
              "      border: none;\n",
              "      border-radius: 50%;\n",
              "      cursor: pointer;\n",
              "      display: none;\n",
              "      fill: #1967D2;\n",
              "      height: 32px;\n",
              "      padding: 0 0 0 0;\n",
              "      width: 32px;\n",
              "    }\n",
              "\n",
              "    .colab-df-convert:hover {\n",
              "      background-color: #E2EBFA;\n",
              "      box-shadow: 0px 1px 2px rgba(60, 64, 67, 0.3), 0px 1px 3px 1px rgba(60, 64, 67, 0.15);\n",
              "      fill: #174EA6;\n",
              "    }\n",
              "\n",
              "    .colab-df-buttons div {\n",
              "      margin-bottom: 4px;\n",
              "    }\n",
              "\n",
              "    [theme=dark] .colab-df-convert {\n",
              "      background-color: #3B4455;\n",
              "      fill: #D2E3FC;\n",
              "    }\n",
              "\n",
              "    [theme=dark] .colab-df-convert:hover {\n",
              "      background-color: #434B5C;\n",
              "      box-shadow: 0px 1px 3px 1px rgba(0, 0, 0, 0.15);\n",
              "      filter: drop-shadow(0px 1px 2px rgba(0, 0, 0, 0.3));\n",
              "      fill: #FFFFFF;\n",
              "    }\n",
              "  </style>\n",
              "\n",
              "    <script>\n",
              "      const buttonEl =\n",
              "        document.querySelector('#df-0701c9a1-4f31-47d9-812f-ec55c54d9c10 button.colab-df-convert');\n",
              "      buttonEl.style.display =\n",
              "        google.colab.kernel.accessAllowed ? 'block' : 'none';\n",
              "\n",
              "      async function convertToInteractive(key) {\n",
              "        const element = document.querySelector('#df-0701c9a1-4f31-47d9-812f-ec55c54d9c10');\n",
              "        const dataTable =\n",
              "          await google.colab.kernel.invokeFunction('convertToInteractive',\n",
              "                                                    [key], {});\n",
              "        if (!dataTable) return;\n",
              "\n",
              "        const docLinkHtml = 'Like what you see? Visit the ' +\n",
              "          '<a target=\"_blank\" href=https://colab.research.google.com/notebooks/data_table.ipynb>data table notebook</a>'\n",
              "          + ' to learn more about interactive tables.';\n",
              "        element.innerHTML = '';\n",
              "        dataTable['output_type'] = 'display_data';\n",
              "        await google.colab.output.renderOutput(dataTable, element);\n",
              "        const docLink = document.createElement('div');\n",
              "        docLink.innerHTML = docLinkHtml;\n",
              "        element.appendChild(docLink);\n",
              "      }\n",
              "    </script>\n",
              "  </div>\n",
              "\n",
              "\n",
              "    <div id=\"df-6ac0c959-8cc1-4e8b-b277-3ad91326d67d\">\n",
              "      <button class=\"colab-df-quickchart\" onclick=\"quickchart('df-6ac0c959-8cc1-4e8b-b277-3ad91326d67d')\"\n",
              "                title=\"Suggest charts\"\n",
              "                style=\"display:none;\">\n",
              "\n",
              "<svg xmlns=\"http://www.w3.org/2000/svg\" height=\"24px\"viewBox=\"0 0 24 24\"\n",
              "     width=\"24px\">\n",
              "    <g>\n",
              "        <path d=\"M19 3H5c-1.1 0-2 .9-2 2v14c0 1.1.9 2 2 2h14c1.1 0 2-.9 2-2V5c0-1.1-.9-2-2-2zM9 17H7v-7h2v7zm4 0h-2V7h2v10zm4 0h-2v-4h2v4z\"/>\n",
              "    </g>\n",
              "</svg>\n",
              "      </button>\n",
              "\n",
              "<style>\n",
              "  .colab-df-quickchart {\n",
              "      --bg-color: #E8F0FE;\n",
              "      --fill-color: #1967D2;\n",
              "      --hover-bg-color: #E2EBFA;\n",
              "      --hover-fill-color: #174EA6;\n",
              "      --disabled-fill-color: #AAA;\n",
              "      --disabled-bg-color: #DDD;\n",
              "  }\n",
              "\n",
              "  [theme=dark] .colab-df-quickchart {\n",
              "      --bg-color: #3B4455;\n",
              "      --fill-color: #D2E3FC;\n",
              "      --hover-bg-color: #434B5C;\n",
              "      --hover-fill-color: #FFFFFF;\n",
              "      --disabled-bg-color: #3B4455;\n",
              "      --disabled-fill-color: #666;\n",
              "  }\n",
              "\n",
              "  .colab-df-quickchart {\n",
              "    background-color: var(--bg-color);\n",
              "    border: none;\n",
              "    border-radius: 50%;\n",
              "    cursor: pointer;\n",
              "    display: none;\n",
              "    fill: var(--fill-color);\n",
              "    height: 32px;\n",
              "    padding: 0;\n",
              "    width: 32px;\n",
              "  }\n",
              "\n",
              "  .colab-df-quickchart:hover {\n",
              "    background-color: var(--hover-bg-color);\n",
              "    box-shadow: 0 1px 2px rgba(60, 64, 67, 0.3), 0 1px 3px 1px rgba(60, 64, 67, 0.15);\n",
              "    fill: var(--button-hover-fill-color);\n",
              "  }\n",
              "\n",
              "  .colab-df-quickchart-complete:disabled,\n",
              "  .colab-df-quickchart-complete:disabled:hover {\n",
              "    background-color: var(--disabled-bg-color);\n",
              "    fill: var(--disabled-fill-color);\n",
              "    box-shadow: none;\n",
              "  }\n",
              "\n",
              "  .colab-df-spinner {\n",
              "    border: 2px solid var(--fill-color);\n",
              "    border-color: transparent;\n",
              "    border-bottom-color: var(--fill-color);\n",
              "    animation:\n",
              "      spin 1s steps(1) infinite;\n",
              "  }\n",
              "\n",
              "  @keyframes spin {\n",
              "    0% {\n",
              "      border-color: transparent;\n",
              "      border-bottom-color: var(--fill-color);\n",
              "      border-left-color: var(--fill-color);\n",
              "    }\n",
              "    20% {\n",
              "      border-color: transparent;\n",
              "      border-left-color: var(--fill-color);\n",
              "      border-top-color: var(--fill-color);\n",
              "    }\n",
              "    30% {\n",
              "      border-color: transparent;\n",
              "      border-left-color: var(--fill-color);\n",
              "      border-top-color: var(--fill-color);\n",
              "      border-right-color: var(--fill-color);\n",
              "    }\n",
              "    40% {\n",
              "      border-color: transparent;\n",
              "      border-right-color: var(--fill-color);\n",
              "      border-top-color: var(--fill-color);\n",
              "    }\n",
              "    60% {\n",
              "      border-color: transparent;\n",
              "      border-right-color: var(--fill-color);\n",
              "    }\n",
              "    80% {\n",
              "      border-color: transparent;\n",
              "      border-right-color: var(--fill-color);\n",
              "      border-bottom-color: var(--fill-color);\n",
              "    }\n",
              "    90% {\n",
              "      border-color: transparent;\n",
              "      border-bottom-color: var(--fill-color);\n",
              "    }\n",
              "  }\n",
              "</style>\n",
              "\n",
              "      <script>\n",
              "        async function quickchart(key) {\n",
              "          const quickchartButtonEl =\n",
              "            document.querySelector('#' + key + ' button');\n",
              "          quickchartButtonEl.disabled = true;  // To prevent multiple clicks.\n",
              "          quickchartButtonEl.classList.add('colab-df-spinner');\n",
              "          try {\n",
              "            const charts = await google.colab.kernel.invokeFunction(\n",
              "                'suggestCharts', [key], {});\n",
              "          } catch (error) {\n",
              "            console.error('Error during call to suggestCharts:', error);\n",
              "          }\n",
              "          quickchartButtonEl.classList.remove('colab-df-spinner');\n",
              "          quickchartButtonEl.classList.add('colab-df-quickchart-complete');\n",
              "        }\n",
              "        (() => {\n",
              "          let quickchartButtonEl =\n",
              "            document.querySelector('#df-6ac0c959-8cc1-4e8b-b277-3ad91326d67d button');\n",
              "          quickchartButtonEl.style.display =\n",
              "            google.colab.kernel.accessAllowed ? 'block' : 'none';\n",
              "        })();\n",
              "      </script>\n",
              "    </div>\n",
              "\n",
              "    </div>\n",
              "  </div>\n"
            ],
            "application/vnd.google.colaboratory.intrinsic+json": {
              "type": "dataframe",
              "variable_name": "tienda2",
              "summary": "{\n  \"name\": \"tienda2\",\n  \"rows\": 2359,\n  \"fields\": [\n    {\n      \"column\": \"Producto\",\n      \"properties\": {\n        \"dtype\": \"category\",\n        \"num_unique_values\": 51,\n        \"samples\": [\n          \"Carrito de control remoto\",\n          \"Bal\\u00f3n de voleibol\",\n          \"Smartwatch\"\n        ],\n        \"semantic_type\": \"\",\n        \"description\": \"\"\n      }\n    },\n    {\n      \"column\": \"Categor\\u00eda del Producto\",\n      \"properties\": {\n        \"dtype\": \"category\",\n        \"num_unique_values\": 8,\n        \"samples\": [\n          \"Instrumentos musicales\",\n          \"Juguetes\",\n          \"Muebles\"\n        ],\n        \"semantic_type\": \"\",\n        \"description\": \"\"\n      }\n    },\n    {\n      \"column\": \"Precio\",\n      \"properties\": {\n        \"dtype\": \"number\",\n        \"std\": 595559.5496238894,\n        \"min\": 7600.0,\n        \"max\": 2953400.0,\n        \"num_unique_values\": 1908,\n        \"samples\": [\n          58500.0,\n          39100.0,\n          2005300.0\n        ],\n        \"semantic_type\": \"\",\n        \"description\": \"\"\n      }\n    },\n    {\n      \"column\": \"Costo de env\\u00edo\",\n      \"properties\": {\n        \"dtype\": \"number\",\n        \"std\": 31741.37516624008,\n        \"min\": 0.0,\n        \"max\": 162500.0,\n        \"num_unique_values\": 736,\n        \"samples\": [\n          79700.0,\n          32300.0,\n          12600.0\n        ],\n        \"semantic_type\": \"\",\n        \"description\": \"\"\n      }\n    },\n    {\n      \"column\": \"Fecha de Compra\",\n      \"properties\": {\n        \"dtype\": \"category\",\n        \"num_unique_values\": 1025,\n        \"samples\": [\n          \"17/02/2021\",\n          \"16/03/2023\",\n          \"30/07/2020\"\n        ],\n        \"semantic_type\": \"\",\n        \"description\": \"\"\n      }\n    },\n    {\n      \"column\": \"Vendedor\",\n      \"properties\": {\n        \"dtype\": \"category\",\n        \"num_unique_values\": 14,\n        \"samples\": [\n          \"Felipe Santos\",\n          \"\\u00c1ngel Rodriguez\",\n          \"Izabela de Le\\u00f3n\"\n        ],\n        \"semantic_type\": \"\",\n        \"description\": \"\"\n      }\n    },\n    {\n      \"column\": \"Lugar de Compra\",\n      \"properties\": {\n        \"dtype\": \"category\",\n        \"num_unique_values\": 19,\n        \"samples\": [\n          \"Medell\\u00edn\",\n          \"Barranquilla\",\n          \"Manizales\"\n        ],\n        \"semantic_type\": \"\",\n        \"description\": \"\"\n      }\n    },\n    {\n      \"column\": \"Calificaci\\u00f3n\",\n      \"properties\": {\n        \"dtype\": \"number\",\n        \"std\": 1,\n        \"min\": 1,\n        \"max\": 5,\n        \"num_unique_values\": 5,\n        \"samples\": [\n          3,\n          2,\n          5\n        ],\n        \"semantic_type\": \"\",\n        \"description\": \"\"\n      }\n    },\n    {\n      \"column\": \"M\\u00e9todo de pago\",\n      \"properties\": {\n        \"dtype\": \"category\",\n        \"num_unique_values\": 4,\n        \"samples\": [\n          \"Tarjeta de cr\\u00e9dito\",\n          \"Tarjeta de d\\u00e9bito\",\n          \"Nequi\"\n        ],\n        \"semantic_type\": \"\",\n        \"description\": \"\"\n      }\n    },\n    {\n      \"column\": \"Cantidad de cuotas\",\n      \"properties\": {\n        \"dtype\": \"number\",\n        \"std\": 2,\n        \"min\": 1,\n        \"max\": 24,\n        \"num_unique_values\": 17,\n        \"samples\": [\n          1,\n          4,\n          2\n        ],\n        \"semantic_type\": \"\",\n        \"description\": \"\"\n      }\n    },\n    {\n      \"column\": \"lat\",\n      \"properties\": {\n        \"dtype\": \"number\",\n        \"std\": 2.3511176512146568,\n        \"min\": -4.21528,\n        \"max\": 11.54444,\n        \"num_unique_values\": 19,\n        \"samples\": [\n          6.25184,\n          10.96854,\n          5.06889\n        ],\n        \"semantic_type\": \"\",\n        \"description\": \"\"\n      }\n    },\n    {\n      \"column\": \"lon\",\n      \"properties\": {\n        \"dtype\": \"number\",\n        \"std\": 1.185996710833015,\n        \"min\": -77.28111,\n        \"max\": -67.9239,\n        \"num_unique_values\": 19,\n        \"samples\": [\n          -75.56359,\n          -74.78132,\n          -75.51738\n        ],\n        \"semantic_type\": \"\",\n        \"description\": \"\"\n      }\n    }\n  ]\n}"
            }
          },
          "metadata": {},
          "execution_count": 1
        }
      ],
      "source": [
        "import pandas as pd\n",
        "\n",
        "url = \"https://raw.githubusercontent.com/alura-es-cursos/challenge1-data-science-latam/refs/heads/main/base-de-datos-challenge1-latam/tienda_1%20.csv\"\n",
        "url2 = \"https://raw.githubusercontent.com/alura-es-cursos/challenge1-data-science-latam/refs/heads/main/base-de-datos-challenge1-latam/tienda_2.csv\"\n",
        "url3 = \"https://raw.githubusercontent.com/alura-es-cursos/challenge1-data-science-latam/refs/heads/main/base-de-datos-challenge1-latam/tienda_3.csv\"\n",
        "url4 = \"https://raw.githubusercontent.com/alura-es-cursos/challenge1-data-science-latam/refs/heads/main/base-de-datos-challenge1-latam/tienda_4.csv\"\n",
        "\n",
        "tienda = pd.read_csv(url)\n",
        "tienda2 = pd.read_csv(url2)\n",
        "tienda3 = pd.read_csv(url3)\n",
        "tienda4 = pd.read_csv(url4)\n",
        "\n",
        "tienda2.head()"
      ]
    },
    {
      "cell_type": "code",
      "source": [],
      "metadata": {
        "id": "YFsC3twbPFbj"
      },
      "execution_count": null,
      "outputs": []
    },
    {
      "cell_type": "code",
      "source": [],
      "metadata": {
        "id": "43PLETTeOlxp"
      },
      "execution_count": null,
      "outputs": []
    },
    {
      "cell_type": "markdown",
      "source": [
        "#1. Análisis de facturación\n",
        "\n"
      ],
      "metadata": {
        "id": "X62IW3KFUIYm"
      }
    },
    {
      "cell_type": "code",
      "source": [
        "df_tienda = pd.DataFrame(tienda)\n",
        "total_ingreso_tienda=df_tienda['Precio'].sum()\n",
        "\n",
        "df_tienda2 = pd.DataFrame(tienda2)\n",
        "total_ingreso_tienda2=df_tienda2['Precio'].sum()\n",
        "\n",
        "df_tienda3 = pd.DataFrame(tienda3)\n",
        "total_ingreso_tienda3=df_tienda3['Precio'].sum()\n",
        "\n",
        "df_tienda4 = pd.DataFrame(tienda4)\n",
        "total_ingreso_tienda4=df_tienda4['Precio'].sum()\n",
        "\n",
        "ingresos_tiendas = {\n",
        "                'Tienda':['Tienda 1',\n",
        "                'Tienda 2',\n",
        "                'Tienda 3',\n",
        "                'Tienda 4'],\n",
        "                'Ingresos':[total_ingreso_tienda,\n",
        "                total_ingreso_tienda2,\n",
        "                total_ingreso_tienda3,\n",
        "                total_ingreso_tienda4]}\n",
        "\n",
        "#index_labels = ['Tienda 1', 'Tienda 2', 'Tienda 3', 'Tienda 4']\n",
        "\n",
        "#df_ingresos_tiendas=pd.DataFrame(ingresos_tiendas,index_labels)\n",
        "df_ingresos_tiendas=pd.DataFrame(ingresos_tiendas)\n",
        "print(df_ingresos_tiendas)\n",
        "\n",
        "#print(f'Ingreso T1: {total_ingreso_tienda} / Ingreso T2: {total_ingreso_tienda2} / Ingreso T3: {total_ingreso_tienda3} / Ingreso T4: {total_ingreso_tienda4} /')\n",
        "\n",
        "import matplotlib.pyplot as plt\n",
        "\n",
        "fig, ax = plt.subplots()\n",
        "\n",
        "x_values = df_ingresos_tiendas['Tienda'].unique()\n",
        "y_values = df_ingresos_tiendas['Ingresos']\n",
        "bar_labels = ['red', 'blue', 'green', 'orange']\n",
        "bar_colors = ['tab:red', 'tab:blue', 'tab:green', 'tab:orange']\n",
        "\n",
        "ax.bar(x_values, y_values,label=bar_labels,color=bar_colors)\n",
        "\n",
        "ax.set_ylabel('Ingresos S/.')\n",
        "ax.set_title('Ingresos Totales por Tienda')\n",
        "ax.legend(title='Ventas Total tienda')\n",
        "\n",
        "plt.show()\n",
        "plt.close('all')\n"
      ],
      "metadata": {
        "id": "xykobSftV64I",
        "colab": {
          "base_uri": "https://localhost:8080/",
          "height": 539
        },
        "outputId": "507eebe8-c7a6-4cdc-f1c3-b0dd5fbd9b11"
      },
      "execution_count": 27,
      "outputs": [
        {
          "output_type": "stream",
          "name": "stdout",
          "text": [
            "     Tienda      Ingresos\n",
            "0  Tienda 1  1.150880e+09\n",
            "1  Tienda 2  1.116344e+09\n",
            "2  Tienda 3  1.098020e+09\n",
            "3  Tienda 4  1.038376e+09\n"
          ]
        },
        {
          "output_type": "display_data",
          "data": {
            "text/plain": [
              "<Figure size 640x480 with 1 Axes>"
            ],
            "image/png": "[encoded data removed]"
          },
          "metadata": {}
        }
      ]
    },
    {
      "cell_type": "code",
      "source": [],
      "metadata": {
        "id": "KDyr8E71V3m-"
      },
      "execution_count": null,
      "outputs": []
    },
    {
      "cell_type": "markdown",
      "source": [
        "# 2. Ventas por categoría"
      ],
      "metadata": {
        "id": "2V_vcAPzWZmR"
      }
    },
    {
      "cell_type": "code",
      "source": [
        "df_group_tienda = df_tienda.groupby('Categoría del Producto').size().sort_values(ascending=False).head(1)\n",
        "df_group_tienda2 = df_tienda2.groupby('Categoría del Producto').size().sort_values(ascending=False).head(1)\n",
        "df_group_tienda3 = df_tienda3.groupby('Categoría del Producto').size().sort_values(ascending=False).head(1)\n",
        "df_group_tienda4 = df_tienda4.groupby('Categoría del Producto').size().sort_values(ascending=False).head(1)\n",
        "\n",
        "Ventas_Categoria = {\n",
        "                'Tienda':['Tienda 1',\n",
        "                'Tienda 2',\n",
        "                'Tienda 3',\n",
        "                'Tienda 4'],\n",
        "                'Categoria':['Muebles',\n",
        "                'Muebles',\n",
        "                'Muebles',\n",
        "                'Muebles'],\n",
        "                'Cantidad Vendida':[df_group_tienda.Muebles,\n",
        "                df_group_tienda2.Muebles,\n",
        "                df_group_tienda3.Muebles,\n",
        "                df_group_tienda4.Muebles]}\n",
        "\n",
        "df_ventas_categoria=pd.DataFrame(Ventas_Categoria)\n",
        "print(df_ventas_categoria)\n",
        "df_ventas_categoria.dtypes\n",
        "\n",
        "#print(df_group_tienda)\n",
        "#print(df_group_tienda2)\n",
        "#print(df_group_tienda3)\n",
        "#print(df_group_tienda4)\n"
      ],
      "metadata": {
        "id": "A34YupIuYhfF",
        "colab": {
          "base_uri": "https://localhost:8080/",
          "height": 265
        },
        "outputId": "7fc884f3-fa69-4d6b-9662-ac5bd3c75af6"
      },
      "execution_count": 3,
      "outputs": [
        {
          "output_type": "stream",
          "name": "stdout",
          "text": [
            "     Tienda Categoria  Cantidad Vendida\n",
            "0  Tienda 1   Muebles               465\n",
            "1  Tienda 2   Muebles               442\n",
            "2  Tienda 3   Muebles               499\n",
            "3  Tienda 4   Muebles               480\n"
          ]
        },
        {
          "output_type": "execute_result",
          "data": {
            "text/plain": [
              "Tienda              object\n",
              "Categoria           object\n",
              "Cantidad Vendida     int64\n",
              "dtype: object"
            ],
            "text/html": [
              "<div>\n",
              "<style scoped>\n",
              "    .dataframe tbody tr th:only-of-type {\n",
              "        vertical-align: middle;\n",
              "    }\n",
              "\n",
              "    .dataframe tbody tr th {\n",
              "        vertical-align: top;\n",
              "    }\n",
              "\n",
              "    .dataframe thead th {\n",
              "        text-align: right;\n",
              "    }\n",
              "</style>\n",
              "<table border=\"1\" class=\"dataframe\">\n",
              "  <thead>\n",
              "    <tr style=\"text-align: right;\">\n",
              "      <th></th>\n",
              "      <th>0</th>\n",
              "    </tr>\n",
              "  </thead>\n",
              "  <tbody>\n",
              "    <tr>\n",
              "      <th>Tienda</th>\n",
              "      <td>object</td>\n",
              "    </tr>\n",
              "    <tr>\n",
              "      <th>Categoria</th>\n",
              "      <td>object</td>\n",
              "    </tr>\n",
              "    <tr>\n",
              "      <th>Cantidad Vendida</th>\n",
              "      <td>int64</td>\n",
              "    </tr>\n",
              "  </tbody>\n",
              "</table>\n",
              "</div><br><label><b>dtype:</b> object</label>"
            ]
          },
          "metadata": {},
          "execution_count": 3
        }
      ]
    },
    {
      "cell_type": "code",
      "source": [
        "import matplotlib.pyplot as plt\n",
        "fig, ax = plt.subplots()\n",
        "\n",
        "x_values = df_ventas_categoria['Tienda'].unique()\n",
        "y_values = df_ventas_categoria['Cantidad Vendida']\n",
        "bar_labels = ['red', 'blue', 'green', 'orange']\n",
        "bar_colors = ['tab:red', 'tab:blue', 'tab:green', 'tab:orange']\n",
        "\n",
        "ax.bar(x_values, y_values,label=bar_labels,color=bar_colors)\n",
        "\n",
        "ax.set_ylabel('Cantidad Vendida')\n",
        "ax.set_title('Cantidad Total Vendida Categoria Muebles ')\n",
        "ax.legend(title='Cantidad Vendida Categorias Muebles')\n",
        "\n",
        "plt.show()\n",
        "plt.close('all')\n",
        "\n",
        "plt.pie(df_ventas_categoria['Cantidad Vendida'], labels=df_ventas_categoria['Tienda'],autopct='%1.1f%%')\n",
        "plt.show()\n",
        "plt.close('all')\n",
        "\n",
        "#plt( kind='pie', y='Cantidad Vendida', autopct='%1.0f%%')"
      ],
      "metadata": {
        "id": "yZR6cOjXYSk1",
        "colab": {
          "base_uri": "https://localhost:8080/",
          "height": 841
        },
        "outputId": "d73ff05b-9ffb-4a29-f34e-bf0f3e97fc5b"
      },
      "execution_count": 28,
      "outputs": [
        {
          "output_type": "display_data",
          "data": {
            "text/plain": [
              "<Figure size 640x480 with 1 Axes>"
            ],
            "image/png": "[encoded data removed]"
          },
          "metadata": {}
        },
        {
          "output_type": "display_data",
          "data": {
            "text/plain": [
              "<Figure size 640x480 with 1 Axes>"
            ],
            "image/png": "[encoded data removed]"
          },
          "metadata": {}
        }
      ]
    },
    {
      "cell_type": "markdown",
      "source": [
        "# 3. Calificación promedio de la tienda\n"
      ],
      "metadata": {
        "id": "Rq6tU_xSY3jk"
      }
    },
    {
      "cell_type": "code",
      "source": [
        "Calificacion_promedio_tienda = df_tienda['Calificación'].mean()\n",
        "#print(Calificacion_promedio_tienda)\n",
        "Calificacion_promedio_tienda2 = df_tienda2['Calificación'].mean()\n",
        "#print(Calificacion_promedio_tienda2\n",
        "Calificacion_promedio_tienda3 = df_tienda3['Calificación'].mean()\n",
        "#print(Calificacion_promedio_tienda3)\n",
        "Calificacion_promedio_tienda4 = df_tienda4['Calificación'].mean()\n",
        "#print(Calificacion_promedio_tienda4)"
      ],
      "metadata": {
        "id": "bh3jjjJwY5MU"
      },
      "execution_count": 5,
      "outputs": []
    },
    {
      "cell_type": "code",
      "source": [
        "calificacion_tiendas = {\n",
        "                'Tienda':['Tienda 1',\n",
        "                'Tienda 2',\n",
        "                'Tienda 3',\n",
        "                'Tienda 4'],\n",
        "                'Calificacion Promedio':[Calificacion_promedio_tienda,\n",
        "                Calificacion_promedio_tienda2,\n",
        "                Calificacion_promedio_tienda3,\n",
        "                Calificacion_promedio_tienda4]}\n",
        "\n",
        "df_calificacion_tienda=pd.DataFrame(calificacion_tiendas)\n",
        "print(df_calificacion_tienda)\n",
        "\n",
        "import matplotlib.pyplot as plt\n",
        "\n",
        "x_values = df_calificacion_tienda['Tienda'].unique()\n",
        "y_values = df_calificacion_tienda['Calificacion Promedio']\n",
        "\n",
        "fig, axs = plt.subplots(1, 3, figsize=(9, 3), sharey=True)\n",
        "axs[0].bar(x_values, y_values)\n",
        "axs[1].scatter(x_values, y_values)\n",
        "axs[2].plot(x_values, y_values)\n",
        "fig.suptitle('Calificacion Promedio por Tienda')\n",
        "\n",
        "plt.show()\n",
        "plt.close('all')\n"
      ],
      "metadata": {
        "id": "I0KkjPoTY88F",
        "colab": {
          "base_uri": "https://localhost:8080/",
          "height": 408
        },
        "outputId": "ff07c6ad-834b-49cd-f081-3165568bfe0b"
      },
      "execution_count": 30,
      "outputs": [
        {
          "output_type": "stream",
          "name": "stdout",
          "text": [
            "     Tienda  Calificacion Promedio\n",
            "0  Tienda 1               3.976685\n",
            "1  Tienda 2               4.037304\n",
            "2  Tienda 3               4.048326\n",
            "3  Tienda 4               3.995759\n"
          ]
        },
        {
          "output_type": "display_data",
          "data": {
            "text/plain": [
              "<Figure size 900x300 with 3 Axes>"
            ],
            "image/png": "[encoded data removed]"
          },
          "metadata": {}
        }
      ]
    },
    {
      "cell_type": "markdown",
      "source": [
        "# 4. Productos más y menos vendidos"
      ],
      "metadata": {
        "id": "DmNp1KPBZCm-"
      }
    },
    {
      "cell_type": "code",
      "source": [
        "#group_productos_vendidost1= df_tienda.groupby('Producto')['Precio'].sum().agg(['min', 'max'])\n",
        "#group_productos_vendidost1= df_tienda.groupby('Producto')['Precio'].sum().sort_values(ascending=False)\n",
        "#print(f'Maximo: {group_productos_vendidost1.head(1)}')\n",
        "#print(f'Minimo: {group_productos_vendidost1.tail(1)}')\n",
        "\n",
        "#group_productos_vendidost2= df_tienda2.groupby('Producto')['Precio'].sum().sort_values(ascending=False)\n",
        "#print(f'Maximo: {group_productos_vendidost2.head(1)}')\n",
        "#print(f'Minimo: {group_productos_vendidost2.tail(1)}')\n",
        "\n",
        "#group_productos_vendidost3= df_tienda3.groupby('Producto')['Precio'].sum().sort_values(ascending=False)\n",
        "#print(f'Maximo: {group_productos_vendidost3.head(1)}')\n",
        "#print(f'Minimo: {group_productos_vendidost3.tail(1)}')\n",
        "\n",
        "#group_productos_vendidost4= df_tienda4.groupby('Producto')['Precio'].sum().sort_values(ascending=False)\n",
        "#print(f'Maximo: {group_productos_vendidost4.head(1)}')\n",
        "#print(f'Minimo: {group_productos_vendidost4.tail(1)}')\n",
        "\n",
        "#group_productos_vendidost1['name']\n",
        "\n",
        "#producto_masvendido1 = df_tienda.groupby('Producto').sum()['Precio'].sort_values(ascending=False).head(1)\n",
        "#producto_menosvendido1=df_tienda.groupby('Producto').sum()['Precio'].sort_values(ascending=False).tail(1)\n",
        "\n",
        "df1=df_tienda.groupby(['Producto'])[['Precio']].sum()\n",
        "df2=df_tienda2.groupby(['Producto'])[['Precio']].sum()\n",
        "df3=df_tienda3.groupby(['Producto'])[['Precio']].sum()\n",
        "df4=df_tienda4.groupby(['Producto'])[['Precio']].sum()\n",
        "#print(df1['Precio'].idxmin())\n",
        "#print(df1['Precio'].min())\n",
        "#print(df1['Precio'].min(),end=\"\")\n",
        "\n",
        "\n",
        "#print(df1['Precio'].idxmax())\n",
        "#print(df1['Precio'].max())\n",
        "#print(df1['Precio'].max(),end=\"\")\n",
        "\n",
        "lsProducto_Mas_vendido = {\n",
        "                'Tienda':['Tienda 1',\n",
        "                'Tienda 2',\n",
        "                'Tienda 3',\n",
        "                'Tienda 4'],\n",
        "                'Producto':[df1['Precio'].idxmax(),\n",
        "                df2['Precio'].idxmax(),\n",
        "                df3['Precio'].idxmax(),\n",
        "                df4['Precio'].idxmax()],\n",
        "                'Venta Total':[df1['Precio'].max(),\n",
        "                df2['Precio'].max(),\n",
        "                df3['Precio'].max(),\n",
        "                df4['Precio'].max()]}\n",
        "\n",
        "df_prodmasvendido_tienda=pd.DataFrame(lsProducto_Mas_vendido)\n",
        "print(df_prodmasvendido_tienda)\n",
        "\n",
        "\n",
        "lsProducto_Menos_vendido = {\n",
        "                'Tienda':['Tienda 1',\n",
        "                'Tienda 2',\n",
        "                'Tienda 3',\n",
        "                'Tienda 4'],\n",
        "                'Producto':[df1['Precio'].idxmin(),\n",
        "                df2['Precio'].idxmin(),\n",
        "                df3['Precio'].idxmin(),\n",
        "                df4['Precio'].idxmin()],\n",
        "                'Venta Total':[df1['Precio'].min(),\n",
        "                df2['Precio'].min(),\n",
        "                df3['Precio'].min(),\n",
        "                df4['Precio'].min()]}\n",
        "\n",
        "df_prodmenosvendido_tienda=pd.DataFrame(lsProducto_Menos_vendido)\n",
        "print(df_prodmenosvendido_tienda)"
      ],
      "metadata": {
        "id": "qoyjqijQZHfF",
        "colab": {
          "base_uri": "https://localhost:8080/"
        },
        "outputId": "abd4143b-f408-4375-8db3-a8e4dd84c9e6"
      },
      "execution_count": 21,
      "outputs": [
        {
          "output_type": "stream",
          "name": "stdout",
          "text": [
            "     Tienda       Producto  Venta Total\n",
            "0  Tienda 1  TV LED UHD 4K  142150200.0\n",
            "1  Tienda 2      Iphone 15  113225800.0\n",
            "2  Tienda 3   Refrigerador   99889700.0\n",
            "3  Tienda 4      Iphone 15   96697500.0\n",
            "     Tienda            Producto  Venta Total\n",
            "0  Tienda 1  Cuerda para saltar     652800.0\n",
            "1  Tienda 2     Cubo mágico 8x8     643600.0\n",
            "2  Tienda 3     Cubo mágico 8x8     640400.0\n",
            "3  Tienda 4  Cuerda para saltar     704800.0\n"
          ]
        }
      ]
    },
    {
      "cell_type": "code",
      "source": [
        "import matplotlib.pyplot as plt\n",
        "import numpy as np\n",
        "\n",
        "x = np.arange(4)\n",
        "width = 0.4\n",
        "\n",
        "plt.bar(x-0.2,df_prodmasvendido_tienda['Venta Total'], width, color='cyan')\n",
        "plt.bar(x+0.2,df_prodmenosvendido_tienda['Venta Total'], width, color='green')\n",
        "plt.xticks(x, ['Tienda 1', 'Tienda 2', 'Tienda 3', 'Tienda 4'])\n",
        "plt.xlabel(\"Tiendas\")\n",
        "plt.ylabel(\"Venta Total\")\n",
        "plt.legend([\"Venta Max\", \"Venta Min\"])\n",
        "plt.show()\n",
        "plt.close('all')"
      ],
      "metadata": {
        "id": "0Sw3sd4IZIGW",
        "colab": {
          "base_uri": "https://localhost:8080/",
          "height": 465
        },
        "outputId": "962ac799-0911-461a-aa1b-70fe618b56a9"
      },
      "execution_count": 37,
      "outputs": [
        {
          "output_type": "display_data",
          "data": {
            "text/plain": [
              "<Figure size 640x480 with 1 Axes>"
            ],
            "image/png": "[encoded data removed]"
          },
          "metadata": {}
        }
      ]
    },
    {
      "cell_type": "markdown",
      "source": [
        "# 5. Envío promedio por tienda"
      ],
      "metadata": {
        "id": "Fl0cGi3bZKqU"
      }
    },
    {
      "cell_type": "code",
      "source": [
        "Costo_envio_promedio_tienda = df_tienda['Costo de envío'].mean()\n",
        "#print(Costo_envio_promedio_tienda)\n",
        "\n",
        "Costo_envio_promedio_tienda2 = df_tienda2['Costo de envío'].mean()\n",
        "#print(Costo_envio_promedio_tienda2)\n",
        "\n",
        "Costo_envio_promedio_tienda3 = df_tienda3['Costo de envío'].mean()\n",
        "#print(Costo_envio_promedio_tienda3)\n",
        "\n",
        "Costo_envio_promedio_tienda4 = df_tienda4['Costo de envío'].mean()\n",
        "#print(Costo_envio_promedio_tienda4)\n",
        "\n",
        "costo_envio_tiendas = {\n",
        "                'Tienda':['Tienda 1',\n",
        "                'Tienda 2',\n",
        "                'Tienda 3',\n",
        "                'Tienda 4'],\n",
        "                'Costo Envio':[Costo_envio_promedio_tienda,\n",
        "                Costo_envio_promedio_tienda2,\n",
        "                Costo_envio_promedio_tienda3,\n",
        "                Costo_envio_promedio_tienda4]}\n",
        "\n",
        "df_costo_envio_tienda=pd.DataFrame(costo_envio_tiendas)\n",
        "print(df_costo_envio_tienda)\n",
        "\n",
        "import matplotlib.pyplot as plt\n",
        "\n",
        "x_values = df_costo_envio_tienda['Tienda'].unique()\n",
        "y_values = df_costo_envio_tienda['Costo Envio']\n",
        "plt.bar(x_values, y_values)\n",
        "plt.show()\n",
        "plt.close('all')\n",
        "\n",
        "plt.plot(x_values, y_values)\n",
        "plt.show()\n",
        "plt.close('all')\n"
      ],
      "metadata": {
        "id": "S2JeaCykZNy9",
        "colab": {
          "base_uri": "https://localhost:8080/",
          "height": 930
        },
        "outputId": "0f535017-d361-4588-f646-7d1cd6c9a6f9"
      },
      "execution_count": 6,
      "outputs": [
        {
          "output_type": "stream",
          "name": "stdout",
          "text": [
            "     Tienda   Costo Envio\n",
            "0  Tienda 1  26018.609580\n",
            "1  Tienda 2  25216.235693\n",
            "2  Tienda 3  24805.680373\n",
            "3  Tienda 4  23459.457167\n"
          ]
        },
        {
          "output_type": "display_data",
          "data": {
            "text/plain": [
              "<Figure size 640x480 with 1 Axes>"
            ],
            "image/png": "[encoded data removed]"
          },
          "metadata": {}
        },
        {
          "output_type": "display_data",
          "data": {
            "text/plain": [
              "<Figure size 640x480 with 1 Axes>"
            ],
            "image/png": "[encoded data removed]"
          },
          "metadata": {}
        }
      ]
    },
    {
      "cell_type": "code",
      "source": [],
      "metadata": {
        "id": "0tSdCie9ZQlt"
      },
      "execution_count": 40,
      "outputs": []
    }
  ]
}